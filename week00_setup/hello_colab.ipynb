{
  "nbformat": 4,
  "nbformat_minor": 0,
  "metadata": {
    "colab": {
      "provenance": [],
      "authorship_tag": "ABX9TyMTzUMHZxJkM1RoaS73L//a",
      "include_colab_link": true
    },
    "kernelspec": {
      "name": "python3",
      "display_name": "Python 3"
    },
    "language_info": {
      "name": "python"
    }
  },
  "cells": [
    {
      "cell_type": "markdown",
      "metadata": {
        "id": "view-in-github",
        "colab_type": "text"
      },
      "source": [
        "<a href=\"https://colab.research.google.com/github/dkulkarn13/ai-from-scratch/blob/main/week00_setup/hello_colab.ipynb\" target=\"_parent\"><img src=\"https://colab.research.google.com/assets/colab-badge.svg\" alt=\"Open In Colab\"/></a>"
      ]
    },
    {
      "cell_type": "code",
      "execution_count": 1,
      "metadata": {
        "colab": {
          "base_uri": "https://localhost:8080/"
        },
        "id": "XjvaaMdJkyDQ",
        "outputId": "80647c11-6f28-4c72-9d36-69461446b15e"
      },
      "outputs": [
        {
          "output_type": "stream",
          "name": "stdout",
          "text": [
            "Hello, Colab!🎉\n",
            "Date: 2025-09-25\n"
          ]
        }
      ],
      "source": [
        "from datetime import date\n",
        "print (\"Hello, Colab!🎉\")\n",
        "print (\"Date:\", date.today())"
      ]
    },
    {
      "cell_type": "code",
      "source": [
        "tasks = [\"create notebook\", \"save to drive\", \"push to GitHub\"]\n",
        "for i, t in enumerate(tasks,1):\n",
        "  print(f\"{i}.{t}\")"
      ],
      "metadata": {
        "colab": {
          "base_uri": "https://localhost:8080/"
        },
        "id": "-GFTFisvmFtC",
        "outputId": "9378fbd2-cab3-4232-ad6b-85819438fc79"
      },
      "execution_count": 2,
      "outputs": [
        {
          "output_type": "stream",
          "name": "stdout",
          "text": [
            "1.create notebook\n",
            "2.save to drive\n",
            "3.push to GitHub\n"
          ]
        }
      ]
    },
    {
      "cell_type": "code",
      "source": [
        "def add(a,b):\n",
        "  return a + b\n",
        "print (\"2 +3 =\", add(2,3))"
      ],
      "metadata": {
        "colab": {
          "base_uri": "https://localhost:8080/"
        },
        "id": "1K-BnX2GnApB",
        "outputId": "dae858e5-7b05-4a44-c3e6-463bfc6853ac"
      },
      "execution_count": 7,
      "outputs": [
        {
          "output_type": "stream",
          "name": "stdout",
          "text": [
            "2 +3 = 5\n"
          ]
        }
      ]
    },
    {
      "cell_type": "code",
      "source": [],
      "metadata": {
        "id": "8PGaeHDDne2v"
      },
      "execution_count": null,
      "outputs": []
    },
    {
      "cell_type": "markdown",
      "source": [
        "# Day 2 — Hello Colab\n",
        "- Ran code cells ✅\n",
        "- Will save to Drive and GitHub ✅\n"
      ],
      "metadata": {
        "id": "R8nq7z-Ln9Tl"
      }
    }
  ]
}